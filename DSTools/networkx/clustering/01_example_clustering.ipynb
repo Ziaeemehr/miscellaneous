{
 "cells": [
  {
   "cell_type": "code",
   "execution_count": 2,
   "metadata": {},
   "outputs": [],
   "source": [
    "# PHYSICAL REVIEW E 76, 2007\n",
    "# Clustering in complex directed networks\n",
    "# Giorgio Fagiolo\n",
    "\n",
    "import numpy as np \n",
    "import pylab as plt\n",
    "import networkx as nx\n",
    "from numpy.linalg import matrix_power"
   ]
  },
  {
   "cell_type": "code",
   "execution_count": 3,
   "metadata": {},
   "outputs": [],
   "source": [
    "\n",
    "def clustering_BUN(A):\n",
    "    '''\n",
    "    clustering for binary undirected network\n",
    "    '''\n",
    "    \n",
    "    G = nx.from_numpy_array(A)\n",
    "    deg = nx.degree(G)\n",
    "    deg = list(dict(deg).values())\n",
    "    deg = np.asarray(deg)\n",
    "    \n",
    "    C = np.diag(matrix_power(A, 3)) / (deg * (deg - 1))\n",
    "    return C\n",
    "\n",
    "def clustering_WUN(A):\n",
    "    '''\n",
    "    clustering for weighted undirected network\n",
    "    '''\n",
    "    G = nx.from_numpy_array(A)\n",
    "    deg = nx.degree(G)\n",
    "    deg = list(dict(deg).values())\n",
    "    deg = np.asarray(deg)\n",
    "    \n",
    "    C = np.diag(matrix_power(A ** (1/3), 3)) / (deg * (deg - 1))\n",
    "    return C\n",
    "    "
   ]
  },
  {
   "cell_type": "code",
   "execution_count": 6,
   "metadata": {},
   "outputs": [
    {
     "name": "stdout",
     "output_type": "stream",
     "text": [
      "0.700000000, 0.700000000, 0.700000000\n",
      "0.666666667, 0.666666667, 0.666666667\n",
      "0.500000000, 0.500000000, 0.500000000\n",
      "0.600000000, 0.600000000, 0.600000000\n",
      "0.571428571, 0.571428571, 0.571428571\n",
      "0.600000000, 0.600000000, 0.600000000\n",
      "0.571428571, 0.571428571, 0.571428571\n",
      "0.666666667, 0.666666667, 0.666666667\n",
      "1.000000000, 1.000000000, 1.000000000\n",
      "0.533333333, 0.533333333, 0.533333333\n",
      "average clustering is 0.6409523809523809\n"
     ]
    }
   ],
   "source": [
    "N = 10\n",
    "# G = nx.complete_graph(5)\n",
    "G = nx.gnp_random_graph(N, p=0.5, seed=1)\n",
    "# print(nx.clustering(G, 0))\n",
    "# print(list(dict(nx.clustering(G)).values()))\n",
    "\n",
    "adj = nx.to_numpy_array(G, dtype=int)\n",
    "C = clustering_BUN(adj)\n",
    "# adj = adj / 2 \n",
    "CW = clustering_WUN(adj)\n",
    "CD = list(dict(nx.clustering(G)).values())\n",
    "for i in range(N):\n",
    "    print(\"{:.9f}, {:.9f}, {:.9f}\".format(CW[i], C[i], CD[i]))\n",
    "# print(C)\n",
    "print(\"average clustering is {}\".format(np.mean(C))) # this should be appriximately equal to p (connectivity)\n",
    "\n"
   ]
  },
  {
   "cell_type": "markdown",
   "metadata": {},
   "source": [
    "- Cycle:"
   ]
  },
  {
   "cell_type": "code",
   "execution_count": 10,
   "metadata": {},
   "outputs": [
    {
     "name": "stdout",
     "output_type": "stream",
     "text": [
      "<class 'numpy.int64'>\n"
     ]
    }
   ],
   "source": [
    "# print(nx.clustering(G))\n",
    "a = np.zeros(6, dtype=int)\n",
    "print(type(a[0]))"
   ]
  },
  {
   "cell_type": "code",
   "execution_count": 26,
   "metadata": {},
   "outputs": [
    {
     "name": "stdout",
     "output_type": "stream",
     "text": [
      "degree_in :  [0, 1, 1, 1, 1, 1]\n",
      "degree_out:  [1, 1, 1, 1, 1, 0]\n",
      "in_degree [0 1 1 1 1 1]\n",
      "out_degree [1 1 1 1 1 0]\n",
      "tot_degree [1 2 2 2 2 1]\n",
      "bilateral_degree [0 0 0 0 0 0]\n"
     ]
    },
    {
     "data": {
      "image/png": "[encoded data removed]",
      "text/plain": [
       "<Figure size 432x288 with 1 Axes>"
      ]
     },
     "metadata": {},
     "output_type": "display_data"
    }
   ],
   "source": [
    "def degree_BDN(A):\n",
    "    '''\n",
    "    degrees of Binary Directed network\n",
    "    '''\n",
    "    A = np.asarray(A)\n",
    "    assert(isinstance(A[0, 0], np.int64))\n",
    "    assert(len(A.shape)==2)\n",
    "    n = A.shape[0]\n",
    "    assert((np.diag(A) == np.zeros(n, dtype=int)).any())\n",
    "    \n",
    "    G = nx.from_numpy_array(A, create_using=nx.DiGraph())\n",
    "    in_deg = np.asarray(list(dict(G.in_degree()).values()))\n",
    "    out_deg = np.asarray(list(dict(G.out_degree()).values()))\n",
    "    \n",
    "    # in_deg = np.sum(A, axis=0)   # in degrees on columns\n",
    "    # out_deg = np.sum(A, axis=1)  # out degrees on rows\n",
    "    tot_deg = in_deg + out_deg\n",
    "    \n",
    "    bilateral_deg = np.diag(matrix_power(A, 2))\n",
    "    \n",
    "    return dict(in_degree=in_deg, \n",
    "                out_degree=out_deg, \n",
    "                tot_degree=tot_deg,\n",
    "                bilateral_degree=bilateral_deg)\n",
    "\n",
    "N = 6\n",
    "# G = nx.gnp_random_graph(N, p=0.5, directed=True, seed=1)\n",
    "G = nx.path_graph(N, create_using=nx.DiGraph())\n",
    "A = nx.to_numpy_array(G, dtype=int)\n",
    "din = list(dict(G.in_degree()).values())\n",
    "dout = list(dict(G.out_degree()).values())\n",
    "\n",
    "print(\"degree_in : \", din)\n",
    "print(\"degree_out: \", dout)\n",
    "\n",
    "nx.draw_circular(G, \n",
    "        with_labels=True, \n",
    "        node_color=\"gray\", \n",
    "        edge_color='k',  \n",
    "        arrow_size=100,\n",
    "        node_size=2000,\n",
    "        linewidths=5)\n",
    "\n",
    "D = degree_BDN(A)\n",
    "for i in D:\n",
    "    print(i, D[i])\n"
   ]
  },
  {
   "cell_type": "code",
   "execution_count": 27,
   "metadata": {},
   "outputs": [],
   "source": [
    "def clustering_BDN(A):\n",
    "    '''\n",
    "    clustering of binary directed network\n",
    "    '''\n",
    "    \n",
    "    data = degree_BDN(A)\n",
    "    tot_degree = data['tot_degree'] \n",
    "    bi_degree = data['bilateral_degree']\n",
    "    \n",
    "    C = np.diag(matrix_power(A + A.T, 3)) / (2*(tot_degree * (tot_degree - 1) - 2 * bi_degree))\n",
    "    return C"
   ]
  },
  {
   "cell_type": "code",
   "execution_count": 28,
   "metadata": {},
   "outputs": [
    {
     "data": {
      "image/png": "[encoded data removed]",
      "text/plain": [
       "<Figure size 432x288 with 1 Axes>"
      ]
     },
     "metadata": {
      "needs_background": "light"
     },
     "output_type": "display_data"
    }
   ],
   "source": [
    "N = 60\n",
    "G = nx.gnp_random_graph(N, p=0.5, directed=True, seed=1)\n",
    "A = nx.to_numpy_array(G, dtype=int)\n",
    "C = clustering_BDN(A)\n",
    "CD = list(dict(nx.clustering(G)).values())\n",
    "# for i, j in zip(C, CD):\n",
    "#     print(\"{:.9f}, {:.9f}\".format(i, j))\n",
    "plt.plot(C, 'r*', alpha=0.5)\n",
    "plt.plot(CD, 'bo', alpha=0.5, ms=3)\n",
    "plt.xlabel(\"C\");"
   ]
  },
  {
   "cell_type": "code",
   "execution_count": 14,
   "metadata": {},
   "outputs": [],
   "source": [
    "def clustering_BDN_cycle(A):\n",
    "    '''\n",
    "    \"cycle\" clustering of binary directed network\n",
    "    '''\n",
    "    data = degree_BDN(A)\n",
    "    in_degree = data['in_degree'] \n",
    "    out_degree = data['out_degree']\n",
    "    bi_degree = data['bilateral_degree']    \n",
    "    C = np.diag(matrix_power(A, 3)) / (in_degree * out_degree - bi_degree)\n",
    "    \n",
    "    return C\n",
    "\n",
    "def clustering_BDN_middleman(A):\n",
    "    '''\n",
    "    \"middleman\" clustering of binary directed network\n",
    "    '''\n",
    "    data = degree_BDN(A)\n",
    "    in_degree = data['in_degree'] \n",
    "    out_degree = data['out_degree']\n",
    "    bi_degree = data['bilateral_degree']\n",
    "    C = np.diag(np.matmul(A, np.matmul(A.T, A))) / (in_degree * out_degree - bi_degree)\n",
    "    \n",
    "    return C\n",
    "\n",
    "\n",
    "def clustering_BDN_in(A):\n",
    "    '''\n",
    "    \"in\" clustering of binary directed network\n",
    "    '''\n",
    "    data = degree_BDN(A)\n",
    "    in_degree = data['in_degree']\n",
    "    C = np.diag(np.matmul(A.T, np.matmul(A, A))) / (in_degree * (in_degree - 1))\n",
    "    \n",
    "    return C\n",
    "\n",
    "\n",
    "def clustering_BDN_out(A):\n",
    "    '''\n",
    "    \"out\" clustering of binary directed network\n",
    "    '''\n",
    "    data = degree_BDN(A)\n",
    "    out_degree = data['out_degree']\n",
    "    C = np.diag(np.matmul(A, np.matmul(A, A.T))) / (out_degree * (out_degree - 1))\n",
    "    \n",
    "    return C    "
   ]
  },
  {
   "cell_type": "code",
   "execution_count": 21,
   "metadata": {},
   "outputs": [
    {
     "name": "stdout",
     "output_type": "stream",
     "text": [
      "cyc = 0.495913, mid = 0.465032, in = 0.581653, out = 0.405042, All = 0.482892\n",
      "cyc = 0.487591, mid = 0.494891, in = 0.751812, out = 0.327586, All = 0.495245\n",
      "cyc = 0.489552, mid = 0.470647, in = 0.487903, out = 0.485887, All = 0.483475\n",
      "cyc = 0.462842, mid = 0.469361, in = 0.397783, out = 0.556980, All = 0.468832\n",
      "cyc = 0.489855, mid = 0.491787, in = 0.476326, out = 0.524194, All = 0.495143\n",
      "cyc = 0.475146, mid = 0.495614, in = 0.348522, out = 0.711957, All = 0.490483\n",
      "cyc = 0.517134, mid = 0.470405, in = 0.234409, out = 1.071429, All = 0.494305\n",
      "cyc = 0.515060, mid = 0.493976, in = 0.481538, out = 0.486154, All = 0.494292\n",
      "cyc = 0.532746, mid = 0.497481, in = 0.684615, out = 0.367742, All = 0.506629\n",
      "cyc = 0.511111, mid = 0.475926, in = 0.653680, out = 0.380000, All = 0.496265\n"
     ]
    },
    {
     "data": {
      "image/png": "[encoded data removed]",
      "text/plain": [
       "<Figure size 432x288 with 1 Axes>"
      ]
     },
     "metadata": {
      "needs_background": "light"
     },
     "output_type": "display_data"
    }
   ],
   "source": [
    "N = 60\n",
    "G = nx.gnp_random_graph(N, p=0.5, directed=True, seed=1)\n",
    "A = nx.to_numpy_array(G, dtype=int)\n",
    "C_cyc = clustering_BDN_cycle(A)\n",
    "C_mid = clustering_BDN_middleman(A)\n",
    "C_in = clustering_BDN_in(A)\n",
    "C_out = clustering_BDN_out(A)\n",
    "C = clustering_BDN(A)\n",
    "\n",
    "m = 10 if N > 10 else N\n",
    "for i in range(m):\n",
    "    print(\"cyc = {:.6f}, mid = {:.6f}, in = {:.6f}, out = {:.6f}, All = {:.6f}\".format(\n",
    "        C_cyc[i], C_mid[i], C_in[i], C_out[i], C[i]))\n",
    "\n",
    "plt.plot(range(N), C_cyc, 'c.', label=\"cyc\")\n",
    "plt.plot(range(N), C_mid, 'r.', label=\"mid\")\n",
    "plt.plot(range(N), C_in, 'b.', label=\"in\")\n",
    "plt.plot(range(N), C_out, 'g.', label=\"out\")\n",
    "plt.plot(range(N), C, 'k.', label=\"All\")\n",
    "plt.legend();"
   ]
  },
  {
   "cell_type": "code",
   "execution_count": null,
   "metadata": {},
   "outputs": [],
   "source": []
  }
 ],
 "metadata": {
  "kernelspec": {
   "display_name": "Python 3.6.9 64-bit",
   "language": "python",
   "name": "python36964bit3ec0dbbd46ae448585f9bbd63312a519"
  },
  "language_info": {
   "codemirror_mode": {
    "name": "ipython",
    "version": 3
   },
   "file_extension": ".py",
   "mimetype": "text/x-python",
   "name": "python",
   "nbconvert_exporter": "python",
   "pygments_lexer": "ipython3",
   "version": "3.6.9"
  }
 },
 "nbformat": 4,
 "nbformat_minor": 4
}
