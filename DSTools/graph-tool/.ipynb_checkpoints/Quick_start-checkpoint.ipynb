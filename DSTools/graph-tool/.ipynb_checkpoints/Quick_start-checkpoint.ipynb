{
 "cells": [
  {
   "cell_type": "code",
   "execution_count": 1,
   "metadata": {},
   "outputs": [
    {
     "name": "stdout",
     "output_type": "stream",
     "text": [
      "False\n"
     ]
    }
   ],
   "source": [
    "from graph_tool.all import *\n",
    "from graph_tool.all import *\n",
    "\n",
    "g = Graph()\n",
    "ug = Graph(directed=False)\n",
    "print ug.is_directed()\n",
    "\n",
    "ug = Graph()\n",
    "ug.set_directed(False)\n",
    "#assert ug.is_directed() == False"
   ]
  },
  {
   "cell_type": "code",
   "execution_count": 2,
   "metadata": {},
   "outputs": [
    {
     "name": "stdout",
     "output_type": "stream",
     "text": [
      "0 1\n"
     ]
    }
   ],
   "source": [
    "g1 = Graph()\n",
    "g2 = Graph(g1)\n",
    "v1 = g.add_vertex()\n",
    "v2 = g.add_vertex()\n",
    "print v1,v2\n"
   ]
  },
  {
   "cell_type": "code",
   "execution_count": 3,
   "metadata": {},
   "outputs": [
    {
     "name": "stdout",
     "output_type": "stream",
     "text": [
      "(0, 1)\n",
      "(<Vertex object with index '0' at 0x7fc0c9ea6150>, <Vertex object with index '1' at 0x7fc0c9ea6650>)\n"
     ]
    }
   ],
   "source": [
    "e = g.add_edge(v1, v2)\n",
    "print e\n",
    "print(e.source(), e.target())"
   ]
  },
  {
   "cell_type": "code",
   "execution_count": 4,
   "metadata": {},
   "outputs": [
    {
     "data": {
      "image/png": "[encoded data removed]",
      "text/plain": [
       "<IPython.core.display.Image object>"
      ]
     },
     "metadata": {},
     "output_type": "display_data"
    },
    {
     "name": "stdout",
     "output_type": "stream",
     "text": [
      "1\n"
     ]
    }
   ],
   "source": [
    "graph_draw(g, vertex_text=g.vertex_index, vertex_font_size=18,\n",
    "           output_size=(200, 200), output=\"two-nodes.png\")\n",
    "print(v1.out_degree())"
   ]
  },
  {
   "cell_type": "code",
   "execution_count": 5,
   "metadata": {},
   "outputs": [
    {
     "name": "stdout",
     "output_type": "stream",
     "text": [
      "10\n",
      "<generator object <genexpr> at 0x7fc108725460>\n",
      "<type 'generator'>\n"
     ]
    }
   ],
   "source": [
    "vlist = g.add_vertex(10)\n",
    "print(len(list(vlist)))\n",
    "print vlist\n",
    "print type(vlist)"
   ]
  },
  {
   "cell_type": "code",
   "execution_count": 6,
   "metadata": {},
   "outputs": [],
   "source": [
    "g.remove_edge(e)                               # e no longer exists\n",
    "g.remove_vertex(v2)                # the second vertex is also gone"
   ]
  },
  {
   "cell_type": "code",
   "execution_count": 7,
   "metadata": {},
   "outputs": [],
   "source": [
    "# 'del_list' is a list of vertex descriptors\n",
    "# for v in reversed(sorted(del_list)):\n",
    "#     g.remove_vertex(v)"
   ]
  },
  {
   "cell_type": "code",
   "execution_count": 8,
   "metadata": {},
   "outputs": [],
   "source": [
    "v = g.vertex(8)"
   ]
  },
  {
   "cell_type": "code",
   "execution_count": 9,
   "metadata": {},
   "outputs": [
    {
     "data": {
      "text/plain": [
       "<Edge object with source '2' and target '3' at 0x7fc0c9eba9d0>"
      ]
     },
     "execution_count": 9,
     "metadata": {},
     "output_type": "execute_result"
    }
   ],
   "source": [
    "g.add_edge(g.vertex(2), g.vertex(3))"
   ]
  },
  {
   "cell_type": "code",
   "execution_count": 10,
   "metadata": {},
   "outputs": [],
   "source": [
    "e = g.edge(2,3)"
   ]
  },
  {
   "cell_type": "code",
   "execution_count": 11,
   "metadata": {},
   "outputs": [
    {
     "name": "stdout",
     "output_type": "stream",
     "text": [
      "1\n"
     ]
    }
   ],
   "source": [
    "e = g.add_edge(g.vertex(0), g.vertex(1))\n",
    "print(g.edge_index[e])"
   ]
  },
  {
   "cell_type": "code",
   "execution_count": 12,
   "metadata": {},
   "outputs": [
    {
     "name": "stdout",
     "output_type": "stream",
     "text": [
      "0\n",
      "1\n",
      "2\n",
      "3\n",
      "4\n",
      "5\n",
      "6\n",
      "7\n",
      "8\n",
      "9\n",
      "10\n"
     ]
    }
   ],
   "source": [
    "for v in g.vertices():\n",
    "    print(v)"
   ]
  },
  {
   "cell_type": "code",
   "execution_count": 13,
   "metadata": {},
   "outputs": [
    {
     "name": "stdout",
     "output_type": "stream",
     "text": [
      "(0, 1)\n",
      "(2, 3)\n"
     ]
    }
   ],
   "source": [
    "for e in g.edges():\n",
    "    print(e)"
   ]
  },
  {
   "cell_type": "markdown",
   "metadata": {},
   "source": [
    "### Iterating over the neighborhood of a vertex"
   ]
  },
  {
   "cell_type": "code",
   "execution_count": 15,
   "metadata": {},
   "outputs": [
    {
     "name": "stdout",
     "output_type": "stream",
     "text": [
      "(0, 1)\n",
      "1\n",
      "(2, 3)\n",
      "3\n"
     ]
    }
   ],
   "source": [
    "from itertools import izip\n",
    "for v in g.vertices():\n",
    "   for e in v.out_edges():\n",
    "       print(e)\n",
    "   for w in v.out_neighbors():\n",
    "       print(w)\n",
    "\n",
    "   # the edge and neighbors order always match\n",
    "   for e, w in izip(v.out_edges(), v.out_neighbors()):\n",
    "       assert e.target() == w"
   ]
  },
  {
   "cell_type": "code",
   "execution_count": null,
   "metadata": {},
   "outputs": [],
   "source": []
  }
 ],
 "metadata": {
  "kernelspec": {
   "display_name": "Python 2",
   "language": "python",
   "name": "python2"
  },
  "language_info": {
   "codemirror_mode": {
    "name": "ipython",
    "version": 2
   },
   "file_extension": ".py",
   "mimetype": "text/x-python",
   "name": "python",
   "nbconvert_exporter": "python",
   "pygments_lexer": "ipython2",
   "version": "2.7.12"
  }
 },
 "nbformat": 4,
 "nbformat_minor": 2
}
